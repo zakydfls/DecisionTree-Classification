{
 "cells": [
  {
   "cell_type": "code",
   "execution_count": 1,
   "metadata": {
    "id": "rw2trGGto-4O"
   },
   "outputs": [],
   "source": [
    "#Import library numpy, pandas dan scikit-learn\n",
    "import numpy as np\n",
    "import pandas as pd\n",
    "from sklearn import tree"
   ]
  },
  {
   "cell_type": "code",
   "execution_count": 2,
   "metadata": {
    "id": "acy6kUs3phwJ"
   },
   "outputs": [],
   "source": [
    "#Membaca Dataset dari File ke Pandas dataFrame\n",
    "irisDataset = pd.read_csv('Dataset Iris.csv', delimiter=';', header=0)"
   ]
  },
  {
   "cell_type": "code",
   "execution_count": 3,
   "metadata": {
    "id": "j2ZolV4uqjwO"
   },
   "outputs": [],
   "source": [
    "#Mengubah kelas (kolom \"Species\") dari String ke Unique-Integer\n",
    "irisDataset[\"Species\"] = pd.factorize(irisDataset.Species)[0]"
   ]
  },
  {
   "cell_type": "code",
   "execution_count": 4,
   "metadata": {
    "id": "yWrMU7yorIzO"
   },
   "outputs": [],
   "source": [
    "#Menghapus kolom \"Id\"\n",
    "irisDataset = irisDataset.drop(labels=\"Id\", axis=1)"
   ]
  },
  {
   "cell_type": "code",
   "execution_count": 5,
   "metadata": {
    "id": "dG-3UdM3rUxu"
   },
   "outputs": [],
   "source": [
    "#Mengubah dataFrame ke array Numpy\n",
    "irisDataset = irisDataset.to_numpy()"
   ]
  },
  {
   "cell_type": "code",
   "execution_count": 6,
   "metadata": {
    "id": "yAN-UH4kriLH"
   },
   "outputs": [],
   "source": [
    "#Membagi Dataset => 80 baris data untuk training dan 20 baris data untuk testing\n",
    "dataTraining = np.concatenate((irisDataset[0:40, :], irisDataset[50:90, :]), \n",
    "                              axis=0)\n",
    "dataTesting = np.concatenate((irisDataset[40:50, :], irisDataset[90:100, :]), \n",
    "                             axis=0)\n"
   ]
  },
  {
   "cell_type": "code",
   "execution_count": 7,
   "metadata": {
    "id": "4H9gup4Gs0aX"
   },
   "outputs": [],
   "source": [
    "#Memecah Dataset ke Input dan Label\n",
    "inputTraining = dataTraining[:, 0:4]\n",
    "inputTesting = dataTesting[:, 0:4]\n",
    "labelTraining = dataTraining[:, 4]\n",
    "labelTesting = dataTesting[:, 4]"
   ]
  },
  {
   "cell_type": "code",
   "execution_count": 8,
   "metadata": {
    "id": "kco04ijXtRvn"
   },
   "outputs": [],
   "source": [
    "#Mendefinisikan Decision Tree Classifier\n",
    "model = tree.DecisionTreeClassifier()"
   ]
  },
  {
   "cell_type": "code",
   "execution_count": 9,
   "metadata": {
    "id": "92Ji3zzNtcJG"
   },
   "outputs": [],
   "source": [
    "#Mentraining Model\n",
    "model = model.fit(inputTraining, labelTraining)"
   ]
  },
  {
   "cell_type": "code",
   "execution_count": 10,
   "metadata": {
    "id": "xPE9lX1PtlKW"
   },
   "outputs": [
    {
     "name": "stdout",
     "output_type": "stream",
     "text": [
      "Label Sebenarnya :  [0. 0. 0. 0. 0. 0. 0. 0. 0. 0. 1. 1. 1. 1. 1. 1. 1. 1. 1. 1.]\n",
      "Hasil Prediksi :  [0. 0. 0. 0. 0. 0. 0. 0. 0. 0. 1. 1. 1. 1. 1. 1. 1. 1. 1. 1.]\n"
     ]
    }
   ],
   "source": [
    "#Memprediksi Input Data Testing\n",
    "hasilPrediksi = model.predict(inputTesting)\n",
    "print(\"Label Sebenarnya : \", labelTesting)\n",
    "print(\"Hasil Prediksi : \", hasilPrediksi)"
   ]
  },
  {
   "cell_type": "code",
   "execution_count": 11,
   "metadata": {
    "id": "6SMAZMn4uBD1"
   },
   "outputs": [
    {
     "name": "stdout",
     "output_type": "stream",
     "text": [
      "Prediksi Benar : 20 data\n",
      "Prediksi Salah : 0 data\n",
      "Akurasi : 100.0 %\n"
     ]
    }
   ],
   "source": [
    "#Menghitung Akurasi\n",
    "prediksiBenar = (hasilPrediksi == labelTesting).sum()\n",
    "prediksiSalah = (hasilPrediksi != labelTesting).sum()\n",
    "print(\"Prediksi Benar :\", prediksiBenar, \"data\")\n",
    "print(\"Prediksi Salah :\", prediksiSalah, \"data\")\n",
    "print(\"Akurasi :\", prediksiBenar/(prediksiBenar+prediksiSalah) * 100, \"%\")"
   ]
  }
 ],
 "metadata": {
  "colab": {
   "name": "DecisionTree IrisCSV.ipynb",
   "provenance": []
  },
  "kernelspec": {
   "display_name": "Python 3 (ipykernel)",
   "language": "python",
   "name": "python3"
  },
  "language_info": {
   "codemirror_mode": {
    "name": "ipython",
    "version": 3
   },
   "file_extension": ".py",
   "mimetype": "text/x-python",
   "name": "python",
   "nbconvert_exporter": "python",
   "pygments_lexer": "ipython3",
   "version": "3.11.0"
  }
 },
 "nbformat": 4,
 "nbformat_minor": 1
}
